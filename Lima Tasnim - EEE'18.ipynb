{
 "cells": [
  {
   "cell_type": "markdown",
   "id": "satellite-muscle",
   "metadata": {},
   "source": [
    "## <font color = 'green'> Problem </font>\n",
    "**1.** Write a Python program to find those numbers which are divisible by 8 and 3 but multiple of 9, between 1000 and 1800 (both included)<br\n",
    "\n",
    "**Answer:** The program is given below:"
   ]
  },
  {
   "cell_type": "code",
   "execution_count": 1,
   "id": "sized-scope",
   "metadata": {},
   "outputs": [
    {
     "name": "stdout",
     "output_type": "stream",
     "text": [
      "[1008, 1080, 1152, 1224, 1296, 1368, 1440, 1512, 1584, 1656, 1728, 1800]\n"
     ]
    }
   ],
   "source": [
    "number = [i for i in range(1000, 1801) if i % 8 == 0 and i % 3 == 0 and i % 9  == 0]\n",
    "print(number)\n"
   ]
  },
  {
   "cell_type": "markdown",
   "id": "norwegian-headline",
   "metadata": {},
   "source": [
    "## <font color = 'green'> Problem </font>\n",
    "**2.** touple = ('I','E','E','E','H','S','T','U','S','B')\n",
    "Using this touple, write a program whose output will be IEEE HSTU SB.\n",
    "\n",
    "**Answer:** The program is given belew:"
   ]
  },
  {
   "cell_type": "code",
   "execution_count": 11,
   "id": "interstate-organization",
   "metadata": {},
   "outputs": [
    {
     "name": "stdout",
     "output_type": "stream",
     "text": [
      "IEEE HSTU SB"
     ]
    }
   ],
   "source": [
    "touple = ('I','E','E','E','H','S','T','U','S','B')\n",
    "for i in range(10):\n",
    "    print(touple[i], end = \"\")\n",
    "    if i == 3:\n",
    "        print(\"\", end =\" \")\n",
    "    if i == 7:\n",
    "        print(\"\", end = \" \")\n",
    "        \n"
   ]
  },
  {
   "cell_type": "markdown",
   "id": "protected-aerospace",
   "metadata": {},
   "source": [
    "## <font color = 'green'> Problem </font>\n",
    "**3.** Write a Python program to check a triangle is equilateral, isosceles or scalene.\n",
    "*  Note :\n",
    "    * An equilateral triangle is a triangle in which all three sides are equal.\n",
    "    * A scalene triangle is a triangle that has three unequal sides.\n",
    "    * An isosceles triangle is a triangle with (at least) two equal sides.\n",
    "\n",
    "**Answer:** The program is given belew:"
   ]
  },
  {
   "cell_type": "code",
   "execution_count": 14,
   "id": "damaged-reynolds",
   "metadata": {},
   "outputs": [
    {
     "name": "stdout",
     "output_type": "stream",
     "text": [
      "Enter the length of the tringle of each side : \n",
      "a = 4\n",
      "b = 4\n",
      "c = 4\n",
      "This is an equilateral triangle.\n"
     ]
    }
   ],
   "source": [
    "print(\"Enter the length of the tringle of each side : \")\n",
    "\n",
    "a = int(input(\"a = \"))\n",
    "b = int(input(\"b = \"))\n",
    "c = int(input(\"c = \"))\n",
    "\n",
    "if a == b and b == c:\n",
    "    print(\"This is an equilateral triangle.\")\n",
    "elif a == b or b == c or c == a:\n",
    "    print(\"This is an isosceles tringle.\")\n",
    "else:\n",
    "    print(\"This is a scalene tringle.\")"
   ]
  },
  {
   "cell_type": "markdown",
   "id": "through-school",
   "metadata": {},
   "source": [
    "## <font color = 'green'> Problem</font> \n",
    "**4.** Write a Python program to create the multiplication table (from 1 to 10) of a number.\n",
    "\n",
    "**Answer:** The program is given belew:"
   ]
  },
  {
   "cell_type": "code",
   "execution_count": 17,
   "id": "black-domain",
   "metadata": {},
   "outputs": [
    {
     "name": "stdout",
     "output_type": "stream",
     "text": [
      "Enter a number : 8\n",
      "8 X 1 = 8\n",
      "8 X 2 = 16\n",
      "8 X 3 = 24\n",
      "8 X 4 = 32\n",
      "8 X 5 = 40\n",
      "8 X 6 = 48\n",
      "8 X 7 = 56\n",
      "8 X 8 = 64\n",
      "8 X 9 = 72\n",
      "8 X 10 = 80\n"
     ]
    }
   ],
   "source": [
    "num = int(input(\"Enter a number : \"))\n",
    "\n",
    "for i in range(1, 11):\n",
    "    print(num, \"X\", i, \"=\", num*i)"
   ]
  },
  {
   "cell_type": "markdown",
   "id": "surprised-zambia",
   "metadata": {},
   "source": [
    "## <font color = \"green\">Problem</font>\n",
    "**5.** Write a python program to check whether a given year is a leap year.\n",
    "\n",
    "**Answer:** The program is given belew:"
   ]
  },
  {
   "cell_type": "code",
   "execution_count": 13,
   "id": "alone-demographic",
   "metadata": {},
   "outputs": [
    {
     "name": "stdout",
     "output_type": "stream",
     "text": [
      "Enter a year : 2016\n",
      "2016 is a leap year\n"
     ]
    }
   ],
   "source": [
    "year = int(input(\"Enter a year : \"))\n",
    "if year % 100 != 0 and year % 4 == 0:\n",
    "    print(year, \"is a leap year\")\n",
    "elif year % 100 == 0 and  year % 400 == 0:\n",
    "    print(year, \"is a leap year\")\n",
    "else:\n",
    "    print(year, \"is not a leap year\")"
   ]
  },
  {
   "cell_type": "code",
   "execution_count": null,
   "id": "soviet-worship",
   "metadata": {},
   "outputs": [],
   "source": []
  }
 ],
 "metadata": {
  "kernelspec": {
   "display_name": "Python 3",
   "language": "python",
   "name": "python3"
  },
  "language_info": {
   "codemirror_mode": {
    "name": "ipython",
    "version": 3
   },
   "file_extension": ".py",
   "mimetype": "text/x-python",
   "name": "python",
   "nbconvert_exporter": "python",
   "pygments_lexer": "ipython3",
   "version": "3.8.8"
  }
 },
 "nbformat": 4,
 "nbformat_minor": 5
}
